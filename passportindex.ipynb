{
 "cells": [
  {
   "cell_type": "code",
   "execution_count": 1,
   "id": "a64d1ad2",
   "metadata": {},
   "outputs": [],
   "source": [
    "from selenium import webdriver\n",
    "from selenium.webdriver.common.keys import Keys\n",
    "from bs4 import BeautifulSoup\n",
    "from time import sleep\n",
    "import csv\n",
    "import xlsxwriter\n",
    "from selenium.webdriver.common.by import By\n",
    "from selenium.webdriver.support.ui import WebDriverWait\n",
    "from selenium.webdriver.support import expected_conditions as ec\n",
    "import pandas as pd"
   ]
  },
  {
   "cell_type": "code",
   "execution_count": 2,
   "id": "394d89a5",
   "metadata": {},
   "outputs": [],
   "source": [
    "##############################\n",
    "# opening to website\n",
    "##############################\n",
    "driver= webdriver.Chrome()\n",
    "sleep(2)\n",
    "url = 'https://www.passportindex.org/byRank.php'\n",
    "driver.get(url)\n",
    "sleep(10)"
   ]
  },
  {
   "cell_type": "code",
   "execution_count": 14,
   "id": "67dc7a2b",
   "metadata": {},
   "outputs": [
    {
     "name": "stdout",
     "output_type": "stream",
     "text": [
      "['United Arab Emirates', 'Germany', 'Sweden', 'Finland', 'Luxembourg', 'Spain', 'France', 'Italy', 'Netherlands', 'Austria', 'Switzerland', 'South Korea', 'Denmark', 'Belgium', 'Portugal', 'Norway', 'Poland', 'Ireland', 'United States of America', 'New Zealand', 'Czech Republic', 'Greece', 'Hungary', 'Japan', 'United Kingdom', 'Australia', 'Singapore', 'Malta', 'Lithuania', 'Slovakia', 'Canada', 'Estonia', 'Latvia', 'Slovenia', 'Iceland', 'Liechtenstein', 'Cyprus', 'Croatia', 'Romania', 'Bulgaria', 'Malaysia', 'Monaco', 'Chile', 'Argentina', 'Brazil', 'Andorra', 'Hong Kong', 'San Marino', 'Brunei', 'Barbados', 'Israel', 'Mexico', 'Uruguay', 'Bahamas', 'Peru', 'Vatican City', 'Ukraine', 'St. Vincent and the Grenadines', 'Saint Kitts and Nevis', 'Seychelles', 'Costa Rica', 'Antigua and Barbuda', 'Trinidad and Tobago', 'Macao', 'Paraguay', 'Colombia', 'Mauritius', 'Saint Lucia', 'Serbia', 'Grenada', 'Panama', 'Taiwan', 'Dominica', 'Solomon Islands', 'Honduras', 'Samoa', 'El Salvador', 'Guatemala', 'North Macedonia', 'Tuvalu', 'Montenegro', 'Kiribati', 'Georgia', 'Tonga', 'Russian Federation', 'Marshall Islands', 'Venezuela', 'Turkey', 'Nicaragua', 'Moldova', 'Micronesia', 'Bosnia and Herzegovina', 'Palau', 'Albania', 'Qatar', 'South Africa', 'Kuwait', 'Ecuador', 'Timor-Leste', 'Belize', 'Vanuatu', 'Bahrain', 'Jamaica', 'Fiji', 'Maldives', 'Thailand', 'Saudi Arabia', 'Guyana', 'Oman', 'Belarus', 'Nauru', 'Kazakhstan', 'Botswana', 'Indonesia', 'Suriname', 'Bolivia', 'Tunisia', 'Papua New Guinea', 'China', 'Lesotho', 'Dominican Republic', 'Namibia', 'Azerbaijan', 'Eswatini', 'Malawi', 'Cuba', 'Armenia', 'Morocco', 'Philippines', 'Mongolia', 'Cape Verde', 'Kenya', 'Zambia', 'India', 'Gambia', 'Tanzania', 'Ghana', 'Uzbekistan', 'Kyrgyzstan', 'Sao Tome and Principe', 'Uganda', 'Rwanda', 'Tajikistan', 'Viet Nam', 'Cambodia', 'Sierra Leone', 'Zimbabwe', 'Benin', 'Burkina Faso', 'Gabon', 'Senegal', \"Cote d'Ivoire (Ivory Coast)\", 'Madagascar', 'Mozambique', 'Bhutan', 'Jordan', 'Equatorial Guinea', 'Egypt', 'Niger', 'Guinea', 'Mauritania', 'Togo', 'Algeria', 'Mali', 'Guinea-Bissau', 'Angola', 'Laos', 'Comoros', 'Haiti', 'Turkmenistan', 'Chad', 'Central African Republic', 'Liberia', 'Djibouti', 'Cameroon', 'Burundi', 'Congo', 'Kosovo', 'Myanmar [Burma]', 'Nigeria', 'Sri Lanka', 'Congo (Dem. Rep.)', 'Lebanon', 'Nepal', 'Sudan', 'South Sudan', 'Ethiopia', 'Eritrea', 'Iran', 'Libya', 'Palestinian Territories', 'North Korea', 'Bangladesh', 'Yemen', 'Somalia', 'Pakistan', 'Iraq', 'Syria', 'Afghanistan']\n",
      "199\n"
     ]
    }
   ],
   "source": [
    "# col-lg-3 col-md-3 col-sm-3 col-xs-8 name_country\n",
    "\n",
    "page_source = BeautifulSoup(driver.page_source)\n",
    "countries = page_source.find_all(\"div\",{\"class\":\"col-lg-3 col-md-3 col-sm-3 col-xs-8 name_country\"})\n",
    "#print(profiles)\n",
    "sleep(2)\n",
    "\n",
    "all_countries = []\n",
    "for country in countries:\n",
    "        country_x = country.get_text().strip()\n",
    "        all_countries.append(country_x)\n",
    "        #print(country_x)\n",
    "\n",
    "print(all_countries)\n",
    "print(len(all_countries))\n"
   ]
  },
  {
   "cell_type": "code",
   "execution_count": 13,
   "id": "3e45c88c",
   "metadata": {},
   "outputs": [
    {
     "name": "stdout",
     "output_type": "stream",
     "text": [
      "['180', '173', '173', '173', '173', '173', '173', '173', '173', '173', '173', '173', '172', '172', '172', '172', '172', '172', '172', '172', '171', '171', '171', '171', '171', '171', '170', '170', '170', '170', '170', '169', '169', '169', '168', '168', '167', '167', '167', '167', '165', '163', '160', '160', '160', '157', '156', '155', '153', '152', '151', '150', '147', '146', '146', '145', '145', '144', '143', '141', '141', '140', '138', '138', '137', '137', '136', '136', '136', '135', '134', '134', '133', '132', '129', '128', '128', '128', '128', '127', '127', '125', '125', '124', '124', '124', '124', '123', '122', '121', '120', '119', '119', '115', '110', '106', '106', '102', '101', '98', '98', '97', '96', '96', '94', '94', '93', '93', '93', '91', '90', '88', '86', '85', '85', '85', '83', '83', '83', '82', '81', '80', '80', '79', '78', '78', '77', '77', '76', '76', '75', '74', '74', '73', '72', '72', '72', '72', '72', '72', '71', '70', '69', '69', '69', '68', '68', '68', '68', '68', '67', '67', '67', '66', '66', '65', '65', '65', '64', '64', '64', '64', '64', '63', '63', '63', '63', '63', '63', '63', '62', '61', '60', '60', '59', '58', '57', '57', '56', '55', '55', '55', '55', '55', '54', '53', '53', '52', '51', '50', '50', '50', '49', '45', '44', '44', '40', '39', '38']\n",
      "199\n"
     ]
    }
   ],
   "source": [
    "# col-lg-1 col-md-1 col-sm-1 col-xs-2 name_rank\n",
    "\n",
    "mobility_score = page_source.find_all(\"div\",{\"class\":\"col-lg-1 col-md-1 col-sm-1 col-xs-2 name_rank\"})\n",
    "\n",
    "sleep(2)\n",
    "\n",
    "all_mobility_score = []\n",
    "for mobility in mobility_score:\n",
    "        mobility_x = mobility.get_text().strip()\n",
    "        all_mobility_score.append(mobility_x)\n",
    "        #print(country_x)\n",
    "\n",
    "print(all_mobility_score)\n",
    "print(len(all_countries))\n"
   ]
  },
  {
   "cell_type": "code",
   "execution_count": 16,
   "id": "0d34bdbc",
   "metadata": {},
   "outputs": [
    {
     "name": "stdout",
     "output_type": "stream",
     "text": [
      "['121', '127', '126', '126', '126', '126', '126', '126', '125', '125', '123', '120', '125', '124', '124', '123', '122', '117', '116', '114', '122', '122', '121', '119', '118', '111', '130', '123', '121', '119', '115', '120', '120', '119', '119', '119', '120', '118', '116', '114', '120', '111', '109', '109', '109', '102', '113', '107', '105', '112', '106', '98', '98', '105', '91', '97', '94', '104', '106', '104', '95', '100', '100', '93', '89', '85', '98', '96', '86', '97', '88', '83', '91', '87', '85', '84', '83', '82', '79', '85', '77', '80', '74', '82', '79', '76', '73', '73', '76', '74', '71', '72', '69', '69', '64', '64', '58', '51', '56', '61', '52', '50', '58', '50', '50', '42', '47', '47', '44', '43', '44', '37', '53', '41', '38', '38', '39', '37', '31', '47', '33', '43', '34', '46', '43', '32', '33', '33', '36', '32', '36', '40', '40', '24', '43', '42', '40', '28', '27', '26', '36', '30', '26', '23', '22', '41', '37', '31', '30', '27', '32', '28', '27', '28', '18', '22', '22', '19', '30', '29', '26', '26', '21', '30', '28', '26', '22', '20', '19', '16', '24', '20', '26', '16', '20', '20', '20', '16', '15', '24', '18', '18', '15', '15', '14', '19', '14', '12', '14', '14', '12', '10', '17', '11', '11', '10', '8', '8', '5']\n",
      "199\n"
     ]
    }
   ],
   "source": [
    "# rank vf\n",
    "\n",
    "visa_free = page_source.find_all(\"div\",{\"class\":\"rank vf\"})\n",
    "\n",
    "sleep(2)\n",
    "\n",
    "all_visa_free = []\n",
    "for vf in visa_free:\n",
    "        vfx = vf.get_text().strip()\n",
    "        all_visa_free.append(vfx)\n",
    "        #print(country_x)\n",
    "\n",
    "print(all_visa_free)\n",
    "print(len(all_visa_free))\n"
   ]
  },
  {
   "cell_type": "code",
   "execution_count": 17,
   "id": "77195d45",
   "metadata": {},
   "outputs": [
    {
     "name": "stdout",
     "output_type": "stream",
     "text": [
      "['59', '46', '47', '47', '47', '47', '47', '47', '48', '48', '50', '53', '47', '48', '48', '49', '50', '55', '56', '58', '49', '49', '50', '52', '53', '60', '40', '47', '49', '51', '55', '49', '49', '50', '49', '49', '47', '49', '51', '53', '45', '52', '51', '51', '51', '55', '43', '48', '48', '40', '45', '52', '49', '41', '55', '48', '51', '40', '37', '37', '46', '40', '38', '45', '48', '52', '38', '40', '50', '38', '46', '51', '42', '45', '44', '44', '45', '46', '49', '42', '50', '45', '51', '42', '45', '48', '51', '50', '46', '47', '49', '47', '50', '46', '46', '42', '48', '51', '45', '37', '46', '47', '38', '46', '44', '52', '46', '46', '49', '48', '46', '51', '33', '44', '47', '47', '44', '46', '52', '35', '48', '37', '46', '33', '35', '46', '44', '44', '40', '44', '39', '34', '34', '49', '29', '30', '32', '44', '45', '46', '35', '40', '43', '46', '47', '27', '31', '37', '38', '41', '35', '39', '40', '38', '48', '43', '43', '46', '34', '35', '38', '38', '43', '33', '35', '37', '41', '43', '44', '47', '38', '41', '34', '44', '39', '38', '37', '41', '41', '31', '37', '37', '40', '40', '40', '34', '39', '40', '37', '36', '38', '40', '32', '34', '33', '34', '32', '31', '33']\n",
      "199\n"
     ]
    }
   ],
   "source": [
    "# rank voa\n",
    "\n",
    "visa_on_arriv = page_source.find_all(\"div\",{\"class\":\"rank voa\"})\n",
    "\n",
    "sleep(2)\n",
    "\n",
    "all_visa_on_arriv = []\n",
    "for voa in visa_on_arriv:\n",
    "        voax = voa.get_text().strip()\n",
    "        all_visa_on_arriv.append(voax)\n",
    "        #print(country_x)\n",
    "\n",
    "print(all_visa_on_arriv)\n",
    "print(len(all_visa_on_arriv))\n"
   ]
  },
  {
   "cell_type": "code",
   "execution_count": 19,
   "id": "768a067a",
   "metadata": {},
   "outputs": [
    {
     "name": "stdout",
     "output_type": "stream",
     "text": [
      "['18', '25', '25', '25', '25', '25', '25', '25', '25', '25', '25', '25', '26', '26', '26', '26', '26', '26', '26', '26', '27', '27', '27', '27', '27', '27', '28', '28', '28', '28', '28', '29', '29', '29', '30', '30', '31', '31', '31', '31', '33', '35', '38', '38', '38', '41', '42', '43', '45', '46', '47', '48', '51', '52', '52', '53', '53', '54', '55', '57', '57', '58', '60', '60', '61', '61', '62', '62', '62', '63', '64', '64', '65', '66', '69', '70', '70', '70', '70', '71', '71', '73', '73', '74', '74', '74', '74', '75', '76', '77', '78', '79', '79', '83', '88', '92', '92', '96', '97', '100', '100', '101', '102', '102', '104', '104', '105', '105', '105', '107', '108', '110', '112', '113', '113', '113', '115', '115', '115', '116', '117', '118', '118', '119', '120', '120', '121', '121', '122', '122', '123', '124', '124', '125', '126', '126', '126', '126', '126', '126', '127', '128', '129', '129', '129', '130', '130', '130', '130', '130', '131', '131', '131', '132', '132', '133', '133', '133', '134', '134', '134', '134', '134', '135', '135', '135', '135', '135', '135', '135', '136', '137', '138', '138', '139', '140', '141', '141', '142', '143', '143', '143', '143', '143', '144', '145', '145', '146', '147', '148', '148', '148', '149', '153', '154', '154', '158', '159', '160']\n",
      "199\n"
     ]
    }
   ],
   "source": [
    "# rank vr\n",
    "\n",
    "visa_required = page_source.find_all(\"div\",{\"class\":\"rank vr\"})\n",
    "\n",
    "sleep(2)\n",
    "\n",
    "all_visa_required = []\n",
    "for vr in visa_required:\n",
    "        vrx = vr.get_text().strip()\n",
    "        all_visa_required.append(vrx)\n",
    "        #print(country_x)\n",
    "\n",
    "print(all_visa_required)\n",
    "print(len(all_visa_required))\n"
   ]
  },
  {
   "cell_type": "code",
   "execution_count": 26,
   "id": "b7cce5c0",
   "metadata": {},
   "outputs": [
    {
     "data": {
      "text/html": [
       "<div>\n",
       "<style scoped>\n",
       "    .dataframe tbody tr th:only-of-type {\n",
       "        vertical-align: middle;\n",
       "    }\n",
       "\n",
       "    .dataframe tbody tr th {\n",
       "        vertical-align: top;\n",
       "    }\n",
       "\n",
       "    .dataframe thead th {\n",
       "        text-align: right;\n",
       "    }\n",
       "</style>\n",
       "<table border=\"1\" class=\"dataframe\">\n",
       "  <thead>\n",
       "    <tr style=\"text-align: right;\">\n",
       "      <th></th>\n",
       "      <th>Countries</th>\n",
       "      <th>Mobility_score</th>\n",
       "      <th>Visa_free</th>\n",
       "      <th>Visa_on_arrival</th>\n",
       "      <th>Visa_required</th>\n",
       "    </tr>\n",
       "  </thead>\n",
       "  <tbody>\n",
       "    <tr>\n",
       "      <th>0</th>\n",
       "      <td>United Arab Emirates</td>\n",
       "      <td>180</td>\n",
       "      <td>121</td>\n",
       "      <td>59</td>\n",
       "      <td>18</td>\n",
       "    </tr>\n",
       "    <tr>\n",
       "      <th>1</th>\n",
       "      <td>Germany</td>\n",
       "      <td>173</td>\n",
       "      <td>127</td>\n",
       "      <td>46</td>\n",
       "      <td>25</td>\n",
       "    </tr>\n",
       "    <tr>\n",
       "      <th>2</th>\n",
       "      <td>Sweden</td>\n",
       "      <td>173</td>\n",
       "      <td>126</td>\n",
       "      <td>47</td>\n",
       "      <td>25</td>\n",
       "    </tr>\n",
       "    <tr>\n",
       "      <th>3</th>\n",
       "      <td>Finland</td>\n",
       "      <td>173</td>\n",
       "      <td>126</td>\n",
       "      <td>47</td>\n",
       "      <td>25</td>\n",
       "    </tr>\n",
       "    <tr>\n",
       "      <th>4</th>\n",
       "      <td>Luxembourg</td>\n",
       "      <td>173</td>\n",
       "      <td>126</td>\n",
       "      <td>47</td>\n",
       "      <td>25</td>\n",
       "    </tr>\n",
       "    <tr>\n",
       "      <th>...</th>\n",
       "      <td>...</td>\n",
       "      <td>...</td>\n",
       "      <td>...</td>\n",
       "      <td>...</td>\n",
       "      <td>...</td>\n",
       "    </tr>\n",
       "    <tr>\n",
       "      <th>194</th>\n",
       "      <td>Somalia</td>\n",
       "      <td>44</td>\n",
       "      <td>11</td>\n",
       "      <td>33</td>\n",
       "      <td>154</td>\n",
       "    </tr>\n",
       "    <tr>\n",
       "      <th>195</th>\n",
       "      <td>Pakistan</td>\n",
       "      <td>44</td>\n",
       "      <td>10</td>\n",
       "      <td>34</td>\n",
       "      <td>154</td>\n",
       "    </tr>\n",
       "    <tr>\n",
       "      <th>196</th>\n",
       "      <td>Iraq</td>\n",
       "      <td>40</td>\n",
       "      <td>8</td>\n",
       "      <td>32</td>\n",
       "      <td>158</td>\n",
       "    </tr>\n",
       "    <tr>\n",
       "      <th>197</th>\n",
       "      <td>Syria</td>\n",
       "      <td>39</td>\n",
       "      <td>8</td>\n",
       "      <td>31</td>\n",
       "      <td>159</td>\n",
       "    </tr>\n",
       "    <tr>\n",
       "      <th>198</th>\n",
       "      <td>Afghanistan</td>\n",
       "      <td>38</td>\n",
       "      <td>5</td>\n",
       "      <td>33</td>\n",
       "      <td>160</td>\n",
       "    </tr>\n",
       "  </tbody>\n",
       "</table>\n",
       "<p>199 rows × 5 columns</p>\n",
       "</div>"
      ],
      "text/plain": [
       "                Countries Mobility_score Visa_free Visa_on_arrival  \\\n",
       "0    United Arab Emirates            180       121              59   \n",
       "1                 Germany            173       127              46   \n",
       "2                  Sweden            173       126              47   \n",
       "3                 Finland            173       126              47   \n",
       "4              Luxembourg            173       126              47   \n",
       "..                    ...            ...       ...             ...   \n",
       "194               Somalia             44        11              33   \n",
       "195              Pakistan             44        10              34   \n",
       "196                  Iraq             40         8              32   \n",
       "197                 Syria             39         8              31   \n",
       "198           Afghanistan             38         5              33   \n",
       "\n",
       "    Visa_required  \n",
       "0              18  \n",
       "1              25  \n",
       "2              25  \n",
       "3              25  \n",
       "4              25  \n",
       "..            ...  \n",
       "194           154  \n",
       "195           154  \n",
       "196           158  \n",
       "197           159  \n",
       "198           160  \n",
       "\n",
       "[199 rows x 5 columns]"
      ]
     },
     "metadata": {},
     "output_type": "display_data"
    }
   ],
   "source": [
    "\n",
    "#df = pd.DataFrame()\n",
    "#df2 = dict((z[0], list(z[1:])) for z in zip(all_countries, all_mobility_score, all_visa_free,all_visa_on_arriv,all_visa_required))\n",
    "#df = df.append(df2, ignore_index = True)\n",
    "\n",
    "\n",
    "df = pd.DataFrame(\n",
    "    {'Countries': all_countries,\n",
    "     'Mobility_score': all_mobility_score,\n",
    "     'Visa_free': all_visa_free,\n",
    "     'Visa_on_arrival': all_visa_on_arriv,\n",
    "     'Visa_required': all_visa_required\n",
    "    })\n",
    "\n",
    "\n",
    "display(df)\n",
    "    \n",
    "#if you wanna save to excel\n",
    "#df.to_excel(\"Countries.xlsx\")"
   ]
  },
  {
   "cell_type": "code",
   "execution_count": null,
   "id": "c2f95cd6",
   "metadata": {},
   "outputs": [],
   "source": []
  }
 ],
 "metadata": {
  "kernelspec": {
   "display_name": "Python 3 (ipykernel)",
   "language": "python",
   "name": "python3"
  },
  "language_info": {
   "codemirror_mode": {
    "name": "ipython",
    "version": 3
   },
   "file_extension": ".py",
   "mimetype": "text/x-python",
   "name": "python",
   "nbconvert_exporter": "python",
   "pygments_lexer": "ipython3",
   "version": "3.9.12"
  }
 },
 "nbformat": 4,
 "nbformat_minor": 5
}
